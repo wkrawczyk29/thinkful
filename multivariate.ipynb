{
 "cells": [
  {
   "cell_type": "code",
   "execution_count": 3,
   "metadata": {
    "collapsed": true
   },
   "outputs": [],
   "source": [
    "import pandas as pd\n",
    "df = pd.read_csv('LoanStats3c4.csv')\n",
    "df.head()\n",
    "#need to remove % and conver to float. Lambda function not working\n",
    "#tried new method\n",
    "df['int_rate'] = df['int_rate'].map(lambda x: str(x)[:-1])\n",
    "#removes last part of string. Makes life much easier.\n",
    "df['int_rate'] = df['int_rate'].convert_objects(convert_numeric=True)\n",
    "#simple code makes more sense\n",
    "import numpy as np\n",
    "import statsmodels.api as sm"
   ]
  },
  {
   "cell_type": "code",
   "execution_count": 2,
   "metadata": {
    "collapsed": false
   },
   "outputs": [
    {
     "data": {
      "text/plain": [
       "0     6.99\n",
       "1    12.39\n",
       "2    13.66\n",
       "3    17.14\n",
       "4    13.66\n",
       "Name: int_rate, dtype: float64"
      ]
     },
     "execution_count": 2,
     "metadata": {},
     "output_type": "execute_result"
    }
   ],
   "source": [
    "df['int_rate'][0:5]"
   ]
  },
  {
   "cell_type": "code",
   "execution_count": 4,
   "metadata": {
    "collapsed": false
   },
   "outputs": [
    {
     "data": {
      "text/plain": [
       "0    1\n",
       "1    1\n",
       "2    1\n",
       "3    1\n",
       "4    1\n",
       "Name: constant_int, dtype: int64"
      ]
     },
     "execution_count": 4,
     "metadata": {},
     "output_type": "execute_result"
    }
   ],
   "source": [
    "df['constant_int'] = 1\n",
    "df['constant_int'][0:5]"
   ]
  },
  {
   "cell_type": "code",
   "execution_count": 5,
   "metadata": {
    "collapsed": false
   },
   "outputs": [
    {
     "data": {
      "text/plain": [
       "0     58000\n",
       "1     78000\n",
       "2     50000\n",
       "3    125000\n",
       "4     69000\n",
       "Name: annual_inc, dtype: float64"
      ]
     },
     "execution_count": 5,
     "metadata": {},
     "output_type": "execute_result"
    }
   ],
   "source": [
    "#checking the type on annual_inc\n",
    "df['annual_inc'][0:5]"
   ]
  },
  {
   "cell_type": "code",
   "execution_count": 6,
   "metadata": {
    "collapsed": true
   },
   "outputs": [],
   "source": [
    "import math\n",
    "import scipy.stats as stats\n",
    "import statsmodels.formula.api as smf"
   ]
  },
  {
   "cell_type": "code",
   "execution_count": 7,
   "metadata": {
    "collapsed": false
   },
   "outputs": [
    {
     "name": "stdout",
     "output_type": "stream",
     "text": [
      "                            OLS Regression Results                            \n",
      "==============================================================================\n",
      "Dep. Variable:               int_rate   R-squared:                       0.004\n",
      "Model:                            OLS   Adj. R-squared:                  0.002\n",
      "Method:                 Least Squares   F-statistic:                     2.415\n",
      "Date:                Wed, 29 Jul 2015   Prob (F-statistic):              0.121\n",
      "Time:                        20:23:23   Log-Likelihood:                -1517.1\n",
      "No. Observations:                 569   AIC:                             3038.\n",
      "Df Residuals:                     567   BIC:                             3047.\n",
      "Df Model:                           1                                         \n",
      "Covariance Type:            nonrobust                                         \n",
      "================================================================================\n",
      "                   coef    std err          t      P>|t|      [95.0% Conf. Int.]\n",
      "--------------------------------------------------------------------------------\n",
      "constant_int    14.6525      0.262     55.859      0.000        14.137    15.168\n",
      "annual_inc    4.392e-06   2.83e-06      1.554      0.121     -1.16e-06  9.94e-06\n",
      "==============================================================================\n",
      "Omnibus:                       50.137   Durbin-Watson:                   2.036\n",
      "Prob(Omnibus):                  0.000   Jarque-Bera (JB):               64.757\n",
      "Skew:                           0.703   Prob(JB):                     8.68e-15\n",
      "Kurtosis:                       3.868   Cond. No.                     1.67e+05\n",
      "==============================================================================\n",
      "\n",
      "Warnings:\n",
      "[1] Standard Errors assume that the covariance matrix of the errors is correctly specified.\n",
      "[2] The condition number is large, 1.67e+05. This might indicate that there are\n",
      "strong multicollinearity or other numerical problems.\n"
     ]
    }
   ],
   "source": [
    "df.dropna(inplace=True)\n",
    "logreg = sm.OLS(df['int_rate'], df[['constant_int', 'annual_inc']])\n",
    "result = logreg.fit()\n",
    "print result.summary()"
   ]
  },
  {
   "cell_type": "code",
   "execution_count": 8,
   "metadata": {
    "collapsed": false
   },
   "outputs": [
    {
     "name": "stderr",
     "output_type": "stream",
     "text": [
      "//anaconda/lib/python2.7/site-packages/pandas/core/categorical.py:414: FutureWarning: 'labels' is deprecated. Use 'codes' instead\n",
      "  warnings.warn(\"'labels' is deprecated. Use 'codes' instead\", FutureWarning)\n"
     ]
    }
   ],
   "source": [
    "#adding home ownership, but there's no numerical value. Thinking I need to add numbers\n",
    "#logreg2 = sm.OLS(df['int_rate'], df[['constant_int', 'annual_inc', 'home_ownership']])\n",
    "df['home_ownership'] = pd.Categorical(df.home_ownership).labels"
   ]
  },
  {
   "cell_type": "code",
   "execution_count": 9,
   "metadata": {
    "collapsed": false
   },
   "outputs": [
    {
     "name": "stdout",
     "output_type": "stream",
     "text": [
      "<statsmodels.regression.linear_model.RegressionResultsWrapper object at 0x11e999c10>\n"
     ]
    }
   ],
   "source": [
    "logreg2 = sm.OLS(df['int_rate'], df[['constant_int', 'annual_inc', 'home_ownership']])\n",
    "result2 = logreg2.fit()\n",
    "print result2"
   ]
  },
  {
   "cell_type": "code",
   "execution_count": 10,
   "metadata": {
    "collapsed": false
   },
   "outputs": [
    {
     "name": "stdout",
     "output_type": "stream",
     "text": [
      "<statsmodels.regression.linear_model.RegressionResultsWrapper object at 0x11e9a8890>\n"
     ]
    }
   ],
   "source": [
    "df['Interaction'] = df['home_ownership'] * df['annual_inc']\n",
    "multv3 = sm.OLS(df['int_rate'], df[['constant_int', 'annual_inc', 'home_ownership', 'Interaction']])\n",
    "result3 = multv3.fit()\n",
    "print result3"
   ]
  },
  {
   "cell_type": "code",
   "execution_count": null,
   "metadata": {
    "collapsed": true
   },
   "outputs": [],
   "source": []
  }
 ],
 "metadata": {
  "kernelspec": {
   "display_name": "Python 2",
   "language": "python",
   "name": "python2"
  },
  "language_info": {
   "codemirror_mode": {
    "name": "ipython",
    "version": 2
   },
   "file_extension": ".py",
   "mimetype": "text/x-python",
   "name": "python",
   "nbconvert_exporter": "python",
   "pygments_lexer": "ipython2",
   "version": "2.7.9"
  }
 },
 "nbformat": 4,
 "nbformat_minor": 0
}
